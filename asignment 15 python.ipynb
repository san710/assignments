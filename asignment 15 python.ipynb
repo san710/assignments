#!/usr/bin/env python
# coding: utf-8

# In[1]:


# 1. Calculate the number of seconds in an hour
seconds_per_hour = 60 * 60

# 3. Calculate the number of seconds in a day using the variables
seconds_per_day = seconds_per_hour * 24

# 5. Divide seconds_per_day by seconds_per_hour using floating-point division
floating_point_result = seconds_per_day / seconds_per_hour

# 6. Divide seconds_per_day by seconds_per_hour using integer division
integer_result = seconds_per_day // seconds_per_hour

# 7. Generator to generate prime numbers
def is_prime(n):
    if n <= 1:
        return False
    if n <= 3:
        return True
    if n % 2 == 0 or n % 3 == 0:
        return False
    i = 5
    while i * i <= n:
        if n % i == 0 or n % (i + 2) == 0:
            return False
        i += 6
    return True

def genPrimes():
    yield 2
    yield 3
    prime = 5
    while True:
        if is_prime(prime):
            yield prime
        prime += 2

# Example usage of genPrimes
prime_generator = genPrimes()
for _ in range(5):
    print(next(prime_generator))


# In[ ]:




